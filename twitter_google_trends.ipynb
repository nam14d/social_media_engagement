{
 "metadata": {
  "language_info": {
   "codemirror_mode": {
    "name": "ipython",
    "version": 3
   },
   "file_extension": ".py",
   "mimetype": "text/x-python",
   "name": "python",
   "nbconvert_exporter": "python",
   "pygments_lexer": "ipython3",
   "version": "3.8.3-final"
  },
  "orig_nbformat": 2,
  "kernelspec": {
   "name": "python3",
   "display_name": "Python 3.8.3 64-bit ('base': conda)",
   "metadata": {
    "interpreter": {
     "hash": "dca0ade3e726a953b501b15e8e990130d2b7799f14cfd9f4271676035ebe5511"
    }
   }
  }
 },
 "nbformat": 4,
 "nbformat_minor": 2,
 "cells": [
  {
   "cell_type": "code",
   "execution_count": null,
   "metadata": {},
   "outputs": [],
   "source": [
    "import pandas as pd\n",
    "import re\n",
    "import requests\n",
    "import pymssql\n",
    "from bs4 import BeautifulSoup"
   ]
  },
  {
   "cell_type": "code",
   "execution_count": 39,
   "metadata": {},
   "outputs": [
    {
     "output_type": "stream",
     "name": "stdout",
     "text": [
      "4\n",
      "5\n",
      "6\n"
     ]
    }
   ],
   "source": [
    "twitter_trends = []\n",
    "google_trends = []\n",
    "\n",
    "for num in range(4, 7):\n",
    "    url = 'https://us.trend-calendar.com/trend/2021-03-0{}.html'.format(num)\n",
    "    print(num)\n",
    "    page = requests.get(url)\n",
    "\n",
    "    if (page.status_code != 200):\n",
    "        raise NameError(\"Unsuccessful scraping of page\")\n",
    "\n",
    "    soup = BeautifulSoup(page.text, 'html.parser')\n",
    "\n",
    "    # grab the starting values for both subjects\n",
    "    results = soup.findAll('ol', {'class':'ranking'})\n",
    "\n",
    "    twitter_start = results[0]\n",
    "    google_start = results[1]\n",
    "\n",
    "    for i in twitter_start.findAll('li'):\n",
    "        twitter_trends.append(i.find('a').text)\n",
    "    for i in google_start.findAll('li'):\n",
    "        google_trends.append(i.find('a').text)\n",
    "\n",
    "\n",
    "    \n",
    "    # grab the rest of the values for both subjects\n",
    "    results = soup.findAll('ol', {'class':'readmore-area'})\n",
    "\n",
    "    twitter_cont = results[0]\n",
    "    google_cont = results[1]\n",
    "\n",
    "    for j in twitter_cont.findAll('li'):\n",
    "        twitter_trends.append(j.find('a').text)\n",
    "    for j in google_cont.findAll('li'):\n",
    "        google_trends.append(j.find('a').text)"
   ]
  },
  {
   "cell_type": "code",
   "execution_count": 44,
   "metadata": {},
   "outputs": [],
   "source": [
    "donezo = pd.DataFrame({'twitter':twitter_trends, 'google':google_trends}, columns=['twitter','google'])\n",
    "donezo.to_csv('trends.csv')"
   ]
  },
  {
   "cell_type": "code",
   "execution_count": null,
   "metadata": {},
   "outputs": [],
   "source": []
  }
 ]
}