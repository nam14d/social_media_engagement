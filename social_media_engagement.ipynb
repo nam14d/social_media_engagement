{
 "metadata": {
  "language_info": {
   "codemirror_mode": {
    "name": "ipython",
    "version": 3
   },
   "file_extension": ".py",
   "mimetype": "text/x-python",
   "name": "python",
   "nbconvert_exporter": "python",
   "pygments_lexer": "ipython3",
   "version": "3.8.3-final"
  },
  "orig_nbformat": 2,
  "kernelspec": {
   "name": "python3",
   "display_name": "Python 3.8.3 64-bit ('base': conda)",
   "metadata": {
    "interpreter": {
     "hash": "dca0ade3e726a953b501b15e8e990130d2b7799f14cfd9f4271676035ebe5511"
    }
   }
  }
 },
 "nbformat": 4,
 "nbformat_minor": 2,
 "cells": [
  {
   "cell_type": "code",
   "execution_count": null,
   "metadata": {},
   "outputs": [],
   "source": [
    "import pandas as pd\n",
    "import numpy as np\n",
    "import pymssql"
   ]
  },
  {
   "source": [
    "### Import Data"
   ],
   "cell_type": "markdown",
   "metadata": {}
  },
  {
   "cell_type": "code",
   "execution_count": null,
   "metadata": {},
   "outputs": [],
   "source": [
    "df = pd.read_csv('./meme_cleaning.csv')"
   ]
  },
  {
   "cell_type": "code",
   "execution_count": null,
   "metadata": {},
   "outputs": [],
   "source": [
    "df.Created_At.sort_values()"
   ]
  },
  {
   "source": [
    "### Getting Hashtags to Play Nice"
   ],
   "cell_type": "markdown",
   "metadata": {}
  },
  {
   "cell_type": "code",
   "execution_count": null,
   "metadata": {},
   "outputs": [],
   "source": [
    "#Extract all words that begin with # and turn the results into a dataframe\n",
    "temp = df['Tweet'].str.lower().str.extractall(r\"(#\\w+)\")\n",
    "temp.columns = ['unnamed']\n",
    "# Convert the multiple hashtag values into a list\n",
    "temp = temp.groupby(level = 0)['unnamed'].apply(list)\n",
    "# Save the result as a feature in the original dataset\n",
    "df['hashtags'] = temp"
   ]
  },
  {
   "cell_type": "code",
   "execution_count": null,
   "metadata": {
    "tags": []
   },
   "outputs": [],
   "source": [
    "# search through our new hashtag feature and find unique hashtags; place them into the dictionary in the form {hashtag: number of instances}\n",
    "uniques_count = {}\n",
    "for value in df['hashtags']:\n",
    "    for word in value:\n",
    "        # If the hashtag is already in the dictionary, increment the value by 1\n",
    "        if word in uniques_count:\n",
    "            uniques_count[word] += 1\n",
    "        else:\n",
    "            uniques_count[word] = 1"
   ]
  },
  {
   "cell_type": "code",
   "execution_count": null,
   "metadata": {},
   "outputs": [],
   "source": [
    "pd.Series(uniques_count).sort_values(ascending=False).head()"
   ]
  },
  {
   "cell_type": "code",
   "execution_count": null,
   "metadata": {},
   "outputs": [],
   "source": [
    "hashtags = pd.DataFrame(uniques_count.keys(), columns=['hashs'])\n",
    "hashtags"
   ]
  },
  {
   "cell_type": "code",
   "execution_count": null,
   "metadata": {},
   "outputs": [],
   "source": [
    "len(uniques_count.keys())"
   ]
  },
  {
   "source": [
    "### Topics"
   ],
   "cell_type": "markdown",
   "metadata": {}
  },
  {
   "cell_type": "code",
   "execution_count": null,
   "metadata": {},
   "outputs": [],
   "source": [
    "trends = pd.read_csv('./trends.csv')\n",
    "trends = pd.Series(pd.concat((trends.iloc[:,1], trends.iloc[:,2]), axis = 0).unique())"
   ]
  },
  {
   "source": [
    "## Insert into database"
   ],
   "cell_type": "markdown",
   "metadata": {}
  },
  {
   "cell_type": "code",
   "execution_count": null,
   "metadata": {},
   "outputs": [],
   "source": [
    "server = 'imt563-winter21.database.windows.net'\n",
    "database = 'Team1'\n",
    "username = 'imt563'\n",
    "password = 'SuperSafePassword1234'\n",
    "\n",
    "conn = pymssql.connect(server, username, password, database)\n",
    "cursor = conn.cursor()"
   ]
  },
  {
   "source": [
    "### hashtag"
   ],
   "cell_type": "markdown",
   "metadata": {}
  },
  {
   "cell_type": "code",
   "execution_count": null,
   "metadata": {
    "tags": []
   },
   "outputs": [],
   "source": [
    "# for index, row in hashtags.iterrows():\n",
    "#     cursor.execute(\"INSERT INTO dbo.hashtag(hashtag_text) values(%s)\" % (\"\\'\" + row[0] + \"\\'\"))\n",
    "#     print(index, row[0])\n",
    "# conn.commit()\n",
    "# conn.close()"
   ]
  },
  {
   "source": [
    "### user_profile"
   ],
   "cell_type": "markdown",
   "metadata": {}
  },
  {
   "cell_type": "code",
   "execution_count": null,
   "metadata": {},
   "outputs": [],
   "source": [
    "user_profile = df[['Twitter_Handle','No_of_Followers']].drop_duplicates(subset = ['Twitter_Handle'])"
   ]
  },
  {
   "cell_type": "code",
   "execution_count": null,
   "metadata": {
    "tags": []
   },
   "outputs": [],
   "source": [
    "for index, row in user_profile.iterrows():\n",
    "    cursor.execute(\"INSERT INTO dbo.user_profile(profile_name, follower_count) values(%s, %d)\" % (\"\\'\" + row.Twitter_Handle + \"\\'\",row.No_of_Followers))\n",
    "    print(index, row.Twitter_Handle, row.No_of_Followers)\n",
    "conn.commit()\n",
    "conn.close()"
   ]
  },
  {
   "source": [
    "### photo"
   ],
   "cell_type": "markdown",
   "metadata": {}
  },
  {
   "cell_type": "code",
   "execution_count": null,
   "metadata": {},
   "outputs": [],
   "source": [
    "photo = df[['Image_URL']]"
   ]
  },
  {
   "cell_type": "code",
   "execution_count": null,
   "metadata": {
    "tags": []
   },
   "outputs": [],
   "source": [
    "# for index, row in photo.iterrows():\n",
    "#     cursor.execute(\"INSERT INTO dbo.photo(photo_url) values(%s)\" % (\"\\'\" + row[0] + \"\\'\"))\n",
    "#     print(index, row[0])\n",
    "# conn.commit()\n",
    "# conn.close()"
   ]
  },
  {
   "source": [
    "### temp - Focus on interaction between profiles and post"
   ],
   "cell_type": "markdown",
   "metadata": {}
  },
  {
   "cell_type": "code",
   "execution_count": null,
   "metadata": {},
   "outputs": [],
   "source": [
    "temp = df.iloc[:,2:7]\n",
    "temp['Created_At'] = pd.to_datetime(temp['Created_At']).dt.date.astype(str)\n",
    "temp['Tweet'] = temp['Tweet'].str.replace(\"'\",'').str.lower()"
   ]
  },
  {
   "cell_type": "code",
   "execution_count": null,
   "metadata": {
    "tags": []
   },
   "outputs": [],
   "source": [
    "for index, row in temp.iterrows():\n",
    "    cursor.execute(\"INSERT INTO dbo.temp(profile_name, post_date, tweet_text, like_count, retweet_count) values(%s, %s, %s, %d, %d)\" % (\"\\'\" + row[0] + \"\\'\", row[2], \"\\'\" + row[1] + \"\\'\", row[3], row[4]))\n",
    "conn.commit()\n",
    "conn.close()"
   ]
  },
  {
   "source": [
    "### temp - Focus on interaction between post and hashtag"
   ],
   "cell_type": "markdown",
   "metadata": {}
  },
  {
   "cell_type": "code",
   "execution_count": null,
   "metadata": {},
   "outputs": [],
   "source": [
    "temp = df[['Tweet','hashtags']]\n",
    "temp['Tweet'] = temp['Tweet'].str.replace(\"'\",'').str.lower()\n",
    "temp = temp.explode('hashtags')"
   ]
  },
  {
   "cell_type": "code",
   "execution_count": null,
   "metadata": {
    "tags": []
   },
   "outputs": [],
   "source": [
    "for index, row in temp.iterrows():\n",
    "    cursor.execute(\"INSERT INTO dbo.temp(tweet, hashtag) values(%s, %s)\" % (\"\\'\" + row[0] + \"\\'\",\"\\'\" + row[1] + \"\\'\"))\n",
    "conn.commit()\n",
    "conn.close()"
   ]
  },
  {
   "source": [
    "### temp - Focus on interaction between post and images"
   ],
   "cell_type": "markdown",
   "metadata": {}
  },
  {
   "cell_type": "code",
   "execution_count": null,
   "metadata": {},
   "outputs": [],
   "source": [
    "temp = df[['Tweet','Image_URL']]\n",
    "temp['Tweet'] = temp['Tweet'].str.replace(\"'\",'').str.lower()"
   ]
  },
  {
   "cell_type": "code",
   "execution_count": null,
   "metadata": {},
   "outputs": [],
   "source": [
    "for index, row in temp.iterrows():\n",
    "    cursor.execute(\"INSERT INTO dbo.temp(tweet, photo_url) values(%s, %s)\" % (\"\\'\" + row[0] + \"\\'\",\"\\'\" + row[1] + \"\\'\"))\n",
    "conn.commit()\n",
    "conn.close()"
   ]
  },
  {
   "source": [
    "# EDA"
   ],
   "cell_type": "markdown",
   "metadata": {}
  },
  {
   "source": [
    "Let's take a quick look at our data:"
   ],
   "cell_type": "markdown",
   "metadata": {}
  },
  {
   "cell_type": "code",
   "execution_count": null,
   "metadata": {},
   "outputs": [],
   "source": [
    "df.head()"
   ]
  },
  {
   "cell_type": "code",
   "execution_count": null,
   "metadata": {},
   "outputs": [],
   "source": [
    "df.shape"
   ]
  },
  {
   "cell_type": "code",
   "execution_count": null,
   "metadata": {},
   "outputs": [],
   "source": [
    "df.isna().sum().sum()"
   ]
  },
  {
   "source": [
    "There are a little over 1300 observations and 11 features. I found 575 missing values, but they are all concentrated in the 'User_Location' feature, which will not be overly helpful in predicting engagement."
   ],
   "cell_type": "markdown",
   "metadata": {}
  },
  {
   "cell_type": "code",
   "execution_count": null,
   "metadata": {},
   "outputs": [],
   "source": [
    "X = df[['hashtags','Image_URL']]"
   ]
  },
  {
   "cell_type": "code",
   "execution_count": null,
   "metadata": {},
   "outputs": [],
   "source": [
    "y = (df['No_of_Retweets']+1)/(df['No_of_Followers']+1)"
   ]
  },
  {
   "cell_type": "code",
   "execution_count": null,
   "metadata": {},
   "outputs": [],
   "source": []
  },
  {
   "cell_type": "code",
   "execution_count": null,
   "metadata": {},
   "outputs": [],
   "source": []
  }
 ]
}